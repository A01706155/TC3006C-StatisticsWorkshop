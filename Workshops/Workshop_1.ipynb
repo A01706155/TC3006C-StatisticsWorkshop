{
 "cells": [
  {
   "cell_type": "markdown",
   "metadata": {},
   "source": [
    "# Workshop 1\n",
    "## Manolo Ramírez Pintor\n",
    "## A01706155"
   ]
  },
  {
   "cell_type": "markdown",
   "metadata": {},
   "source": [
    "## 2.3 Challenge: Data management and descriptive statistics."
   ]
  },
  {
   "cell_type": "code",
   "execution_count": 6,
   "metadata": {},
   "outputs": [],
   "source": [
    "import numpy as np\n",
    "import pandas as pd\n",
    "import pandas_datareader as pdr"
   ]
  },
  {
   "cell_type": "markdown",
   "metadata": {},
   "source": [
    "### Download daily prices for Bitcoin from 2017:"
   ]
  },
  {
   "cell_type": "code",
   "execution_count": 7,
   "metadata": {},
   "outputs": [],
   "source": [
    "BTC = pdr.get_data_yahoo('BTC-USD',\n",
    "start=\"01/01/2017\", interval=\"d\")"
   ]
  },
  {
   "cell_type": "markdown",
   "metadata": {},
   "source": [
    "### Show the content of the data:"
   ]
  },
  {
   "cell_type": "code",
   "execution_count": 8,
   "metadata": {},
   "outputs": [
    {
     "data": {
      "text/html": [
       "<div>\n",
       "<style scoped>\n",
       "    .dataframe tbody tr th:only-of-type {\n",
       "        vertical-align: middle;\n",
       "    }\n",
       "\n",
       "    .dataframe tbody tr th {\n",
       "        vertical-align: top;\n",
       "    }\n",
       "\n",
       "    .dataframe thead th {\n",
       "        text-align: right;\n",
       "    }\n",
       "</style>\n",
       "<table border=\"1\" class=\"dataframe\">\n",
       "  <thead>\n",
       "    <tr style=\"text-align: right;\">\n",
       "      <th></th>\n",
       "      <th>High</th>\n",
       "      <th>Low</th>\n",
       "      <th>Open</th>\n",
       "      <th>Close</th>\n",
       "      <th>Volume</th>\n",
       "      <th>Adj Close</th>\n",
       "    </tr>\n",
       "    <tr>\n",
       "      <th>Date</th>\n",
       "      <th></th>\n",
       "      <th></th>\n",
       "      <th></th>\n",
       "      <th></th>\n",
       "      <th></th>\n",
       "      <th></th>\n",
       "    </tr>\n",
       "  </thead>\n",
       "  <tbody>\n",
       "    <tr>\n",
       "      <th>2017-01-01</th>\n",
       "      <td>1003.080017</td>\n",
       "      <td>958.698975</td>\n",
       "      <td>963.658020</td>\n",
       "      <td>998.325012</td>\n",
       "      <td>1.477750e+08</td>\n",
       "      <td>998.325012</td>\n",
       "    </tr>\n",
       "    <tr>\n",
       "      <th>2017-01-02</th>\n",
       "      <td>1031.390015</td>\n",
       "      <td>996.702026</td>\n",
       "      <td>998.617004</td>\n",
       "      <td>1021.750000</td>\n",
       "      <td>2.221850e+08</td>\n",
       "      <td>1021.750000</td>\n",
       "    </tr>\n",
       "    <tr>\n",
       "      <th>2017-01-03</th>\n",
       "      <td>1044.079956</td>\n",
       "      <td>1021.599976</td>\n",
       "      <td>1021.599976</td>\n",
       "      <td>1043.839966</td>\n",
       "      <td>1.851680e+08</td>\n",
       "      <td>1043.839966</td>\n",
       "    </tr>\n",
       "    <tr>\n",
       "      <th>2017-01-04</th>\n",
       "      <td>1159.420044</td>\n",
       "      <td>1044.400024</td>\n",
       "      <td>1044.400024</td>\n",
       "      <td>1154.729980</td>\n",
       "      <td>3.449460e+08</td>\n",
       "      <td>1154.729980</td>\n",
       "    </tr>\n",
       "    <tr>\n",
       "      <th>2017-01-05</th>\n",
       "      <td>1191.099976</td>\n",
       "      <td>910.416992</td>\n",
       "      <td>1156.729980</td>\n",
       "      <td>1013.380005</td>\n",
       "      <td>5.101990e+08</td>\n",
       "      <td>1013.380005</td>\n",
       "    </tr>\n",
       "    <tr>\n",
       "      <th>...</th>\n",
       "      <td>...</td>\n",
       "      <td>...</td>\n",
       "      <td>...</td>\n",
       "      <td>...</td>\n",
       "      <td>...</td>\n",
       "      <td>...</td>\n",
       "    </tr>\n",
       "    <tr>\n",
       "      <th>2022-08-16</th>\n",
       "      <td>24228.416016</td>\n",
       "      <td>23733.500000</td>\n",
       "      <td>24126.136719</td>\n",
       "      <td>23883.291016</td>\n",
       "      <td>2.775369e+10</td>\n",
       "      <td>23883.291016</td>\n",
       "    </tr>\n",
       "    <tr>\n",
       "      <th>2022-08-17</th>\n",
       "      <td>24407.058594</td>\n",
       "      <td>23243.353516</td>\n",
       "      <td>23881.316406</td>\n",
       "      <td>23335.998047</td>\n",
       "      <td>3.093162e+10</td>\n",
       "      <td>23335.998047</td>\n",
       "    </tr>\n",
       "    <tr>\n",
       "      <th>2022-08-18</th>\n",
       "      <td>23563.832031</td>\n",
       "      <td>23177.601562</td>\n",
       "      <td>23341.039062</td>\n",
       "      <td>23212.738281</td>\n",
       "      <td>2.374761e+10</td>\n",
       "      <td>23212.738281</td>\n",
       "    </tr>\n",
       "    <tr>\n",
       "      <th>2022-08-19</th>\n",
       "      <td>23213.312500</td>\n",
       "      <td>20868.847656</td>\n",
       "      <td>23213.312500</td>\n",
       "      <td>20877.552734</td>\n",
       "      <td>4.050961e+10</td>\n",
       "      <td>20877.552734</td>\n",
       "    </tr>\n",
       "    <tr>\n",
       "      <th>2022-08-21</th>\n",
       "      <td>21258.140625</td>\n",
       "      <td>21151.498047</td>\n",
       "      <td>21168.021484</td>\n",
       "      <td>21207.236328</td>\n",
       "      <td>2.668586e+10</td>\n",
       "      <td>21207.236328</td>\n",
       "    </tr>\n",
       "  </tbody>\n",
       "</table>\n",
       "<p>2058 rows × 6 columns</p>\n",
       "</div>"
      ],
      "text/plain": [
       "                    High           Low          Open         Close  \\\n",
       "Date                                                                 \n",
       "2017-01-01   1003.080017    958.698975    963.658020    998.325012   \n",
       "2017-01-02   1031.390015    996.702026    998.617004   1021.750000   \n",
       "2017-01-03   1044.079956   1021.599976   1021.599976   1043.839966   \n",
       "2017-01-04   1159.420044   1044.400024   1044.400024   1154.729980   \n",
       "2017-01-05   1191.099976    910.416992   1156.729980   1013.380005   \n",
       "...                  ...           ...           ...           ...   \n",
       "2022-08-16  24228.416016  23733.500000  24126.136719  23883.291016   \n",
       "2022-08-17  24407.058594  23243.353516  23881.316406  23335.998047   \n",
       "2022-08-18  23563.832031  23177.601562  23341.039062  23212.738281   \n",
       "2022-08-19  23213.312500  20868.847656  23213.312500  20877.552734   \n",
       "2022-08-21  21258.140625  21151.498047  21168.021484  21207.236328   \n",
       "\n",
       "                  Volume     Adj Close  \n",
       "Date                                    \n",
       "2017-01-01  1.477750e+08    998.325012  \n",
       "2017-01-02  2.221850e+08   1021.750000  \n",
       "2017-01-03  1.851680e+08   1043.839966  \n",
       "2017-01-04  3.449460e+08   1154.729980  \n",
       "2017-01-05  5.101990e+08   1013.380005  \n",
       "...                  ...           ...  \n",
       "2022-08-16  2.775369e+10  23883.291016  \n",
       "2022-08-17  3.093162e+10  23335.998047  \n",
       "2022-08-18  2.374761e+10  23212.738281  \n",
       "2022-08-19  4.050961e+10  20877.552734  \n",
       "2022-08-21  2.668586e+10  21207.236328  \n",
       "\n",
       "[2058 rows x 6 columns]"
      ]
     },
     "execution_count": 8,
     "metadata": {},
     "output_type": "execute_result"
    }
   ],
   "source": [
    "BTC"
   ]
  },
  {
   "cell_type": "markdown",
   "metadata": {},
   "source": [
    "### Python automatically shows you only the first and last rows of the dataset. Now show the last quotations:"
   ]
  },
  {
   "cell_type": "code",
   "execution_count": 9,
   "metadata": {},
   "outputs": [
    {
     "data": {
      "text/html": [
       "<div>\n",
       "<style scoped>\n",
       "    .dataframe tbody tr th:only-of-type {\n",
       "        vertical-align: middle;\n",
       "    }\n",
       "\n",
       "    .dataframe tbody tr th {\n",
       "        vertical-align: top;\n",
       "    }\n",
       "\n",
       "    .dataframe thead th {\n",
       "        text-align: right;\n",
       "    }\n",
       "</style>\n",
       "<table border=\"1\" class=\"dataframe\">\n",
       "  <thead>\n",
       "    <tr style=\"text-align: right;\">\n",
       "      <th></th>\n",
       "      <th>High</th>\n",
       "      <th>Low</th>\n",
       "      <th>Open</th>\n",
       "      <th>Close</th>\n",
       "      <th>Volume</th>\n",
       "      <th>Adj Close</th>\n",
       "    </tr>\n",
       "    <tr>\n",
       "      <th>Date</th>\n",
       "      <th></th>\n",
       "      <th></th>\n",
       "      <th></th>\n",
       "      <th></th>\n",
       "      <th></th>\n",
       "      <th></th>\n",
       "    </tr>\n",
       "  </thead>\n",
       "  <tbody>\n",
       "    <tr>\n",
       "      <th>2022-08-16</th>\n",
       "      <td>24228.416016</td>\n",
       "      <td>23733.500000</td>\n",
       "      <td>24126.136719</td>\n",
       "      <td>23883.291016</td>\n",
       "      <td>2.775369e+10</td>\n",
       "      <td>23883.291016</td>\n",
       "    </tr>\n",
       "    <tr>\n",
       "      <th>2022-08-17</th>\n",
       "      <td>24407.058594</td>\n",
       "      <td>23243.353516</td>\n",
       "      <td>23881.316406</td>\n",
       "      <td>23335.998047</td>\n",
       "      <td>3.093162e+10</td>\n",
       "      <td>23335.998047</td>\n",
       "    </tr>\n",
       "    <tr>\n",
       "      <th>2022-08-18</th>\n",
       "      <td>23563.832031</td>\n",
       "      <td>23177.601562</td>\n",
       "      <td>23341.039062</td>\n",
       "      <td>23212.738281</td>\n",
       "      <td>2.374761e+10</td>\n",
       "      <td>23212.738281</td>\n",
       "    </tr>\n",
       "    <tr>\n",
       "      <th>2022-08-19</th>\n",
       "      <td>23213.312500</td>\n",
       "      <td>20868.847656</td>\n",
       "      <td>23213.312500</td>\n",
       "      <td>20877.552734</td>\n",
       "      <td>4.050961e+10</td>\n",
       "      <td>20877.552734</td>\n",
       "    </tr>\n",
       "    <tr>\n",
       "      <th>2022-08-21</th>\n",
       "      <td>21258.140625</td>\n",
       "      <td>21151.498047</td>\n",
       "      <td>21168.021484</td>\n",
       "      <td>21207.236328</td>\n",
       "      <td>2.668586e+10</td>\n",
       "      <td>21207.236328</td>\n",
       "    </tr>\n",
       "  </tbody>\n",
       "</table>\n",
       "</div>"
      ],
      "text/plain": [
       "                    High           Low          Open         Close  \\\n",
       "Date                                                                 \n",
       "2022-08-16  24228.416016  23733.500000  24126.136719  23883.291016   \n",
       "2022-08-17  24407.058594  23243.353516  23881.316406  23335.998047   \n",
       "2022-08-18  23563.832031  23177.601562  23341.039062  23212.738281   \n",
       "2022-08-19  23213.312500  20868.847656  23213.312500  20877.552734   \n",
       "2022-08-21  21258.140625  21151.498047  21168.021484  21207.236328   \n",
       "\n",
       "                  Volume     Adj Close  \n",
       "Date                                    \n",
       "2022-08-16  2.775369e+10  23883.291016  \n",
       "2022-08-17  3.093162e+10  23335.998047  \n",
       "2022-08-18  2.374761e+10  23212.738281  \n",
       "2022-08-19  4.050961e+10  20877.552734  \n",
       "2022-08-21  2.668586e+10  21207.236328  "
      ]
     },
     "execution_count": 9,
     "metadata": {},
     "output_type": "execute_result"
    }
   ],
   "source": [
    "BTC.tail()"
   ]
  },
  {
   "cell_type": "markdown",
   "metadata": {},
   "source": [
    "### Import the matplotlib and do a plot for the Bitcoin closing prices:"
   ]
  },
  {
   "cell_type": "code",
   "execution_count": 10,
   "metadata": {},
   "outputs": [
    {
     "data": {
      "image/png": "[encoded data removed]",
      "text/plain": [
       "<Figure size 432x288 with 1 Axes>"
      ]
     },
     "metadata": {
      "needs_background": "light"
     },
     "output_type": "display_data"
    }
   ],
   "source": [
    "import matplotlib\n",
    "from matplotlib.pyplot import*\n",
    "from matplotlib import pyplot\n",
    "# Pandas data reader puede hacer plots directamente\n",
    "# de matplotlib.pyplot\n",
    "plot(BTC[\"Close\"]) # Se selecciona la columna close\n",
    "show() # Se muestra el grafico"
   ]
  },
  {
   "cell_type": "markdown",
   "metadata": {},
   "source": [
    "### We can check the data types of each variable (column) in the dataset:"
   ]
  },
  {
   "cell_type": "code",
   "execution_count": 11,
   "metadata": {},
   "outputs": [
    {
     "name": "stdout",
     "output_type": "stream",
     "text": [
      "<class 'pandas.core.frame.DataFrame'>\n",
      "DatetimeIndex: 2058 entries, 2017-01-01 to 2022-08-21\n",
      "Data columns (total 6 columns):\n",
      " #   Column     Non-Null Count  Dtype  \n",
      "---  ------     --------------  -----  \n",
      " 0   High       2058 non-null   float64\n",
      " 1   Low        2058 non-null   float64\n",
      " 2   Open       2058 non-null   float64\n",
      " 3   Close      2058 non-null   float64\n",
      " 4   Volume     2058 non-null   float64\n",
      " 5   Adj Close  2058 non-null   float64\n",
      "dtypes: float64(6)\n",
      "memory usage: 112.5 KB\n"
     ]
    }
   ],
   "source": [
    "BTC.info()"
   ]
  },
  {
   "cell_type": "markdown",
   "metadata": {},
   "source": [
    "## 2.3.2.3 Continuously compounded returns"
   ]
  },
  {
   "cell_type": "markdown",
   "metadata": {},
   "source": [
    "One way to calculate cc returns is by subtracting the log of the current price (at t) minus the log of the previous price (at t-1):\n",
    "\n",
    "In Python we can get the previous value of a variable using the shift(n) function. This function works for Panda dataframes. Then we can calculate a new column for the simple returns of Bitcoin as follows:"
   ]
  },
  {
   "cell_type": "code",
   "execution_count": 12,
   "metadata": {},
   "outputs": [
    {
     "name": "stdout",
     "output_type": "stream",
     "text": [
      "Date\n",
      "2017-01-01         NaN\n",
      "2017-01-02    0.023464\n",
      "2017-01-03    0.021620\n",
      "2017-01-04    0.106233\n",
      "2017-01-05   -0.122410\n",
      "                ...   \n",
      "2022-08-16   -0.010510\n",
      "2022-08-17   -0.022915\n",
      "2022-08-18   -0.005282\n",
      "2022-08-19   -0.100599\n",
      "2022-08-21    0.015791\n",
      "Name: R, Length: 2058, dtype: float64\n"
     ]
    }
   ],
   "source": [
    "BTC[\"R\"] = (BTC[\"Close\"] / BTC[\"Close\"].shift(1)) - 1\n",
    "print(BTC[\"R\"])"
   ]
  },
  {
   "cell_type": "markdown",
   "metadata": {},
   "source": [
    "#### Now we calculate cc returns in a new column using the shift function:"
   ]
  },
  {
   "cell_type": "code",
   "execution_count": 13,
   "metadata": {},
   "outputs": [],
   "source": [
    "BTC[\"r\"] = np.log(BTC['Adj Close']) - np.log(BTC['Adj Close'].shift(1))\n",
    "BTCR = BTC[['R','r']].copy()"
   ]
  },
  {
   "cell_type": "markdown",
   "metadata": {},
   "source": [
    "#### We have a null value for the first day since we cannot calculate returns for day 1. We can drop the rows with NA values to ease data calculations:"
   ]
  },
  {
   "cell_type": "code",
   "execution_count": 14,
   "metadata": {},
   "outputs": [],
   "source": [
    "BTC= BTC.dropna()"
   ]
  },
  {
   "cell_type": "markdown",
   "metadata": {},
   "source": [
    "## 2.3.2.4 Descriptive statistics of returns"
   ]
  },
  {
   "cell_type": "code",
   "execution_count": 15,
   "metadata": {},
   "outputs": [
    {
     "data": {
      "text/plain": [
       "count    2057.000000\n",
       "mean        0.002349\n",
       "std         0.041349\n",
       "min        -0.371695\n",
       "25%        -0.015882\n",
       "50%         0.002089\n",
       "75%         0.020751\n",
       "max         0.252472\n",
       "Name: R, dtype: float64"
      ]
     },
     "execution_count": 15,
     "metadata": {},
     "output_type": "execute_result"
    }
   ],
   "source": [
    "sumret = BTC[\"R\"].describe()\n",
    "sumret"
   ]
  },
  {
   "cell_type": "markdown",
   "metadata": {},
   "source": [
    "### To know which days were the worse, we can do a selection based on a condition. Let’s see which days had a daily return less than 15%:"
   ]
  },
  {
   "cell_type": "code",
   "execution_count": 16,
   "metadata": {},
   "outputs": [
    {
     "data": {
      "text/html": [
       "<div>\n",
       "<style scoped>\n",
       "    .dataframe tbody tr th:only-of-type {\n",
       "        vertical-align: middle;\n",
       "    }\n",
       "\n",
       "    .dataframe tbody tr th {\n",
       "        vertical-align: top;\n",
       "    }\n",
       "\n",
       "    .dataframe thead th {\n",
       "        text-align: right;\n",
       "    }\n",
       "</style>\n",
       "<table border=\"1\" class=\"dataframe\">\n",
       "  <thead>\n",
       "    <tr style=\"text-align: right;\">\n",
       "      <th></th>\n",
       "      <th>High</th>\n",
       "      <th>Low</th>\n",
       "      <th>Open</th>\n",
       "      <th>Close</th>\n",
       "      <th>Volume</th>\n",
       "      <th>Adj Close</th>\n",
       "      <th>R</th>\n",
       "      <th>r</th>\n",
       "    </tr>\n",
       "    <tr>\n",
       "      <th>Date</th>\n",
       "      <th></th>\n",
       "      <th></th>\n",
       "      <th></th>\n",
       "      <th></th>\n",
       "      <th></th>\n",
       "      <th></th>\n",
       "      <th></th>\n",
       "      <th></th>\n",
       "    </tr>\n",
       "  </thead>\n",
       "  <tbody>\n",
       "    <tr>\n",
       "      <th>2017-09-14</th>\n",
       "      <td>3920.600098</td>\n",
       "      <td>3153.860107</td>\n",
       "      <td>3875.370117</td>\n",
       "      <td>3154.949951</td>\n",
       "      <td>2.716310e+09</td>\n",
       "      <td>3154.949951</td>\n",
       "      <td>-0.187411</td>\n",
       "      <td>-0.207530</td>\n",
       "    </tr>\n",
       "    <tr>\n",
       "      <th>2018-01-16</th>\n",
       "      <td>13843.099609</td>\n",
       "      <td>10194.900391</td>\n",
       "      <td>13836.099609</td>\n",
       "      <td>11490.500000</td>\n",
       "      <td>1.885380e+10</td>\n",
       "      <td>11490.500000</td>\n",
       "      <td>-0.168548</td>\n",
       "      <td>-0.184582</td>\n",
       "    </tr>\n",
       "    <tr>\n",
       "      <th>2018-02-05</th>\n",
       "      <td>8364.839844</td>\n",
       "      <td>6756.680176</td>\n",
       "      <td>8270.540039</td>\n",
       "      <td>6955.270020</td>\n",
       "      <td>9.285290e+09</td>\n",
       "      <td>6955.270020</td>\n",
       "      <td>-0.159688</td>\n",
       "      <td>-0.173982</td>\n",
       "    </tr>\n",
       "    <tr>\n",
       "      <th>2020-03-12</th>\n",
       "      <td>7929.116211</td>\n",
       "      <td>4860.354004</td>\n",
       "      <td>7913.616211</td>\n",
       "      <td>4970.788086</td>\n",
       "      <td>5.398036e+10</td>\n",
       "      <td>4970.788086</td>\n",
       "      <td>-0.371695</td>\n",
       "      <td>-0.464730</td>\n",
       "    </tr>\n",
       "    <tr>\n",
       "      <th>2022-06-13</th>\n",
       "      <td>26795.589844</td>\n",
       "      <td>22141.257812</td>\n",
       "      <td>26737.578125</td>\n",
       "      <td>22487.388672</td>\n",
       "      <td>6.820456e+10</td>\n",
       "      <td>22487.388672</td>\n",
       "      <td>-0.159747</td>\n",
       "      <td>-0.174053</td>\n",
       "    </tr>\n",
       "  </tbody>\n",
       "</table>\n",
       "</div>"
      ],
      "text/plain": [
       "                    High           Low          Open         Close  \\\n",
       "Date                                                                 \n",
       "2017-09-14   3920.600098   3153.860107   3875.370117   3154.949951   \n",
       "2018-01-16  13843.099609  10194.900391  13836.099609  11490.500000   \n",
       "2018-02-05   8364.839844   6756.680176   8270.540039   6955.270020   \n",
       "2020-03-12   7929.116211   4860.354004   7913.616211   4970.788086   \n",
       "2022-06-13  26795.589844  22141.257812  26737.578125  22487.388672   \n",
       "\n",
       "                  Volume     Adj Close         R         r  \n",
       "Date                                                        \n",
       "2017-09-14  2.716310e+09   3154.949951 -0.187411 -0.207530  \n",
       "2018-01-16  1.885380e+10  11490.500000 -0.168548 -0.184582  \n",
       "2018-02-05  9.285290e+09   6955.270020 -0.159688 -0.173982  \n",
       "2020-03-12  5.398036e+10   4970.788086 -0.371695 -0.464730  \n",
       "2022-06-13  6.820456e+10  22487.388672 -0.159747 -0.174053  "
      ]
     },
     "execution_count": 16,
     "metadata": {},
     "output_type": "execute_result"
    }
   ],
   "source": [
    "# Primero se llama a la var BTC, luego\n",
    "# se solicita R indicando que queremos\n",
    "# menos del 15% del valor de retorno.\n",
    "BTC[BTC[\"R\"]<-0.15]\n"
   ]
  },
  {
   "cell_type": "markdown",
   "metadata": {},
   "source": [
    "### To know the best days for Bitcoin:"
   ]
  },
  {
   "cell_type": "code",
   "execution_count": 17,
   "metadata": {},
   "outputs": [
    {
     "data": {
      "text/html": [
       "<div>\n",
       "<style scoped>\n",
       "    .dataframe tbody tr th:only-of-type {\n",
       "        vertical-align: middle;\n",
       "    }\n",
       "\n",
       "    .dataframe tbody tr th {\n",
       "        vertical-align: top;\n",
       "    }\n",
       "\n",
       "    .dataframe thead th {\n",
       "        text-align: right;\n",
       "    }\n",
       "</style>\n",
       "<table border=\"1\" class=\"dataframe\">\n",
       "  <thead>\n",
       "    <tr style=\"text-align: right;\">\n",
       "      <th></th>\n",
       "      <th>High</th>\n",
       "      <th>Low</th>\n",
       "      <th>Open</th>\n",
       "      <th>Close</th>\n",
       "      <th>Volume</th>\n",
       "      <th>Adj Close</th>\n",
       "      <th>R</th>\n",
       "      <th>r</th>\n",
       "    </tr>\n",
       "    <tr>\n",
       "      <th>Date</th>\n",
       "      <th></th>\n",
       "      <th></th>\n",
       "      <th></th>\n",
       "      <th></th>\n",
       "      <th></th>\n",
       "      <th></th>\n",
       "      <th></th>\n",
       "      <th></th>\n",
       "    </tr>\n",
       "  </thead>\n",
       "  <tbody>\n",
       "    <tr>\n",
       "      <th>2017-12-07</th>\n",
       "      <td>17899.699219</td>\n",
       "      <td>14057.299805</td>\n",
       "      <td>14266.099609</td>\n",
       "      <td>17899.699219</td>\n",
       "      <td>1.795070e+10</td>\n",
       "      <td>17899.699219</td>\n",
       "      <td>0.252472</td>\n",
       "      <td>0.225119</td>\n",
       "    </tr>\n",
       "    <tr>\n",
       "      <th>2017-07-20</th>\n",
       "      <td>2900.699951</td>\n",
       "      <td>2269.889893</td>\n",
       "      <td>2269.889893</td>\n",
       "      <td>2817.600098</td>\n",
       "      <td>2.249260e+09</td>\n",
       "      <td>2817.600098</td>\n",
       "      <td>0.239361</td>\n",
       "      <td>0.214596</td>\n",
       "    </tr>\n",
       "    <tr>\n",
       "      <th>2017-12-06</th>\n",
       "      <td>14369.099609</td>\n",
       "      <td>11923.400391</td>\n",
       "      <td>11923.400391</td>\n",
       "      <td>14291.500000</td>\n",
       "      <td>1.265630e+10</td>\n",
       "      <td>14291.500000</td>\n",
       "      <td>0.199283</td>\n",
       "      <td>0.181724</td>\n",
       "    </tr>\n",
       "    <tr>\n",
       "      <th>2021-02-08</th>\n",
       "      <td>46203.929688</td>\n",
       "      <td>38076.324219</td>\n",
       "      <td>38886.828125</td>\n",
       "      <td>46196.464844</td>\n",
       "      <td>1.014672e+11</td>\n",
       "      <td>46196.464844</td>\n",
       "      <td>0.187465</td>\n",
       "      <td>0.171821</td>\n",
       "    </tr>\n",
       "    <tr>\n",
       "      <th>2020-03-19</th>\n",
       "      <td>6329.735840</td>\n",
       "      <td>5236.968750</td>\n",
       "      <td>5245.416504</td>\n",
       "      <td>6191.192871</td>\n",
       "      <td>5.100073e+10</td>\n",
       "      <td>6191.192871</td>\n",
       "      <td>0.181878</td>\n",
       "      <td>0.167104</td>\n",
       "    </tr>\n",
       "    <tr>\n",
       "      <th>2019-04-02</th>\n",
       "      <td>4905.954590</td>\n",
       "      <td>4155.316895</td>\n",
       "      <td>4156.919434</td>\n",
       "      <td>4879.877930</td>\n",
       "      <td>2.131505e+10</td>\n",
       "      <td>4879.877930</td>\n",
       "      <td>0.173560</td>\n",
       "      <td>0.160042</td>\n",
       "    </tr>\n",
       "    <tr>\n",
       "      <th>2019-10-25</th>\n",
       "      <td>8691.540039</td>\n",
       "      <td>7479.984375</td>\n",
       "      <td>7490.703125</td>\n",
       "      <td>8660.700195</td>\n",
       "      <td>2.870507e+10</td>\n",
       "      <td>8660.700195</td>\n",
       "      <td>0.155763</td>\n",
       "      <td>0.144761</td>\n",
       "    </tr>\n",
       "    <tr>\n",
       "      <th>2017-07-17</th>\n",
       "      <td>2230.489990</td>\n",
       "      <td>1932.619995</td>\n",
       "      <td>1932.619995</td>\n",
       "      <td>2228.409912</td>\n",
       "      <td>1.201760e+09</td>\n",
       "      <td>2228.409912</td>\n",
       "      <td>0.154724</td>\n",
       "      <td>0.143862</td>\n",
       "    </tr>\n",
       "    <tr>\n",
       "      <th>2017-09-15</th>\n",
       "      <td>3733.449951</td>\n",
       "      <td>2946.620117</td>\n",
       "      <td>3166.300049</td>\n",
       "      <td>3637.520020</td>\n",
       "      <td>4.148070e+09</td>\n",
       "      <td>3637.520020</td>\n",
       "      <td>0.152956</td>\n",
       "      <td>0.142330</td>\n",
       "    </tr>\n",
       "  </tbody>\n",
       "</table>\n",
       "</div>"
      ],
      "text/plain": [
       "                    High           Low          Open         Close  \\\n",
       "Date                                                                 \n",
       "2017-12-07  17899.699219  14057.299805  14266.099609  17899.699219   \n",
       "2017-07-20   2900.699951   2269.889893   2269.889893   2817.600098   \n",
       "2017-12-06  14369.099609  11923.400391  11923.400391  14291.500000   \n",
       "2021-02-08  46203.929688  38076.324219  38886.828125  46196.464844   \n",
       "2020-03-19   6329.735840   5236.968750   5245.416504   6191.192871   \n",
       "2019-04-02   4905.954590   4155.316895   4156.919434   4879.877930   \n",
       "2019-10-25   8691.540039   7479.984375   7490.703125   8660.700195   \n",
       "2017-07-17   2230.489990   1932.619995   1932.619995   2228.409912   \n",
       "2017-09-15   3733.449951   2946.620117   3166.300049   3637.520020   \n",
       "\n",
       "                  Volume     Adj Close         R         r  \n",
       "Date                                                        \n",
       "2017-12-07  1.795070e+10  17899.699219  0.252472  0.225119  \n",
       "2017-07-20  2.249260e+09   2817.600098  0.239361  0.214596  \n",
       "2017-12-06  1.265630e+10  14291.500000  0.199283  0.181724  \n",
       "2021-02-08  1.014672e+11  46196.464844  0.187465  0.171821  \n",
       "2020-03-19  5.100073e+10   6191.192871  0.181878  0.167104  \n",
       "2019-04-02  2.131505e+10   4879.877930  0.173560  0.160042  \n",
       "2019-10-25  2.870507e+10   8660.700195  0.155763  0.144761  \n",
       "2017-07-17  1.201760e+09   2228.409912  0.154724  0.143862  \n",
       "2017-09-15  4.148070e+09   3637.520020  0.152956  0.142330  "
      ]
     },
     "execution_count": 17,
     "metadata": {},
     "output_type": "execute_result"
    }
   ],
   "source": [
    "# Para ello, llamamos a la variable, luego solicitamos R\n",
    "# y le indicamos más del 15% de variable de retorno.\n",
    "# Para acomodarlos, ponemos la funcion sort_values y\n",
    "# dentro ponemos que sea por \"R\" en forma descendiente.\n",
    "BTC[BTC[\"R\"]>0.15].sort_values(by=['R'], ascending=False)"
   ]
  },
  {
   "cell_type": "markdown",
   "metadata": {},
   "source": [
    "#### We can also get the main descriptive statistics using specific functions like:\n",
    "\n"
   ]
  },
  {
   "cell_type": "code",
   "execution_count": 22,
   "metadata": {},
   "outputs": [
    {
     "name": "stdout",
     "output_type": "stream",
     "text": [
      "The daily average return of Bitcoin is  0.0014856678910168944\n",
      "The daily variance of Bitcoin is  0.0017359533463614841\n",
      "The daily standard deviation (volatility) of Bitcoin return is  0.04166477344665976\n",
      "The daily median return of Bitcoin is  0.002087127436135816\n"
     ]
    }
   ],
   "source": [
    "# .mean(), .var(), .std(), .median()\n",
    "# Media, Valor de riesgo, Desviación estandar, Mediana\n",
    "print(\"The daily average return of Bitcoin is \", BTC[\"r\"].mean())\n",
    "print(\"The daily variance of Bitcoin is \", BTC[\"r\"].var())\n",
    "print(\"The daily standard deviation (volatility) of Bitcoin return is \", BTC[\"r\"].std())\n",
    "print(\"The daily median return of Bitcoin is \",BTC[\"r\"].median())"
   ]
  },
  {
   "cell_type": "markdown",
   "metadata": {},
   "source": [
    "## 3.2 CHALLENGES: Histogram"
   ]
  },
  {
   "cell_type": "markdown",
   "metadata": {},
   "source": [
    "* Do a histogram for daily Bitcoin cc returns. Hints: use the plot.hist function for pandas dataframes, and the BTC dataframe.\n",
    "\n",
    "* Interpret the histogram with your own words and in CAPITAL LETTERS"
   ]
  },
  {
   "cell_type": "markdown",
   "metadata": {},
   "source": [
    "### Histogram:"
   ]
  },
  {
   "cell_type": "code",
   "execution_count": 28,
   "metadata": {},
   "outputs": [
    {
     "data": {
      "image/png": "[encoded data removed]",
      "text/plain": [
       "<Figure size 432x288 with 1 Axes>"
      ]
     },
     "metadata": {
      "needs_background": "light"
     },
     "output_type": "display_data"
    }
   ],
   "source": [
    "# Hints: use the plot.hist\n",
    "r_bitcoin = BTC[[\"R\"]]\n",
    "hist = r_bitcoin.plot.hist( bins=12, alpha=0.5, title=\"Histogram of daily Bitcoin returns\" )"
   ]
  },
  {
   "cell_type": "markdown",
   "metadata": {},
   "source": [
    "### Interpretation\n",
    "* MY ANALYSIS AND INTERPRETATION OF THIS HISTOGRAM MAKES ME THINK THAT THERE ARE MORE POSITIVE VALUES JUDGING BY THE FREQUENCY BARS VISUALLY, THE NEGATIVE VALUES ARE LOWER, MEANING THAT IT CAN BE POSSIBLE TO EARN MORE ON AN INVESTMENT THAN HAVING A MAJOR LOSS."
   ]
  },
  {
   "cell_type": "markdown",
   "metadata": {},
   "source": [
    "## 5 The Normal Distribution Function\n"
   ]
  },
  {
   "cell_type": "markdown",
   "metadata": {},
   "source": [
    "## 5.2 CHALLENGE: Simulating the normal distribution\n",
    "\n",
    "Use the mean and standard deviation of the historical cc returns of Bitcoin and simulate the same # of returns as the days we dowloaded in the BTC dataframe.\n",
    "\n",
    "In one plot show both, the real distribution of historical cc returns and the simulated normal distribution.\n",
    "\n",
    "DO YOU SEE A DIFFERENCE BEWEEN THE REAL VS THE SIMULATED RETURNS? BRIEFLY EXPLAIN."
   ]
  },
  {
   "cell_type": "code",
   "execution_count": 39,
   "metadata": {},
   "outputs": [
    {
     "name": "stdout",
     "output_type": "stream",
     "text": [
      "0.002348603669185742\n",
      "0.04134911149038358\n",
      "2057\n"
     ]
    },
    {
     "data": {
      "image/png": "[encoded data removed]",
      "text/plain": [
       "<Figure size 432x288 with 1 Axes>"
      ]
     },
     "metadata": {
      "needs_background": "light"
     },
     "output_type": "display_data"
    }
   ],
   "source": [
    "# Debug info:\n",
    "print(BTC[\"R\"].mean())\n",
    "print(BTC[\"R\"].std())\n",
    "print(len(BTC[\"R\"].axes[0]))\n",
    "\n",
    "\n",
    "# Ayuda no se como se como se imprime la distribución real aaaaa\n",
    "# Ahora si fdjsfj\n",
    "\n",
    "# Para crear los valores simulados, usamos la funcion\n",
    "# .normal para crear valores en base a una distribución\n",
    "# gausseana (Distribución normal), le indicamos que sea\n",
    "# en base a la media y la desviación estandar de los CC\n",
    "# y para tener los datos normales, le indicamos el rango\n",
    "# con el tamaño del arreglo o de los datos en BTC.\n",
    "Simulated_return = np.random.normal(loc = BTC[\"R\"].mean(), scale = BTC[\"R\"].std(), size = len(BTC[\"R\"].axes[0]))\n",
    "\n",
    "# pd.DataFrame(Simulated_return).plot.hist(bins=12, alpha=0.5, title=\"Simulation of normal distribution\", label=\"owo\")\n",
    "# pd.DataFrame(r_bitcoin).plot.hist(bins=12, alpha=0.5, label=\"uwu\")\n",
    "\n",
    "# Graficar los valores simulados \n",
    "# https://matplotlib.org/stable/tutorials/introductory/pyplot.html#:~:text=pyplot%20is%20a%20collection%20of,In%20matplotlib.\n",
    "pyplot.hist(Simulated_return, bins = 10, alpha = 0.5, label = \"Simulated return\")\n",
    "pyplot.hist(r_bitcoin, bins = 10, alpha = 0.5, label = \"Real return\")\n",
    "pyplot.legend(loc=\"upper left\")\n",
    "pyplot.show()\n"
   ]
  },
  {
   "cell_type": "markdown",
   "metadata": {},
   "source": [
    "#### Difference between real vs simulated returns\n",
    "* THE DIFFERENCE BETWEEN THE REAL AND THE SIMULATED ONES IS THAT THEY TEND TO BE SMALLER BUT STILL REFERING TO GETTING A BIT MORE GAINS THAN LOSSES WHEN DOING AN INVESTMENT SINCE THE VALUES GREATER THAN ZERO ARE MORE FREQUENT THAT THE NEGATIVE ONES."
   ]
  }
 ],
 "metadata": {
  "kernelspec": {
   "display_name": "Python 3.10.3 64-bit",
   "language": "python",
   "name": "python3"
  },
  "language_info": {
   "codemirror_mode": {
    "name": "ipython",
    "version": 3
   },
   "file_extension": ".py",
   "mimetype": "text/x-python",
   "name": "python",
   "nbconvert_exporter": "python",
   "pygments_lexer": "ipython3",
   "version": "3.10.3"
  },
  "orig_nbformat": 4,
  "vscode": {
   "interpreter": {
    "hash": "c47c896eb7d247e37b2e85063757fb1d5709b8397f6f1d76972efaa0b0675ad6"
   }
  }
 },
 "nbformat": 4,
 "nbformat_minor": 2
}
