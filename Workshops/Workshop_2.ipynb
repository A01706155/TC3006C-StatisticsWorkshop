{
 "cells": [
  {
   "cell_type": "markdown",
   "metadata": {},
   "source": [
    "# Workshop 2\n",
    "## Manolo Ramírez Pintor\n",
    "## A01706155\n",
    "## 16/08/2022"
   ]
  },
  {
   "cell_type": "markdown",
   "metadata": {},
   "source": [
    "## 2.2 Monte Carlo simulation\n"
   ]
  },
  {
   "cell_type": "code",
   "execution_count": 2,
   "metadata": {},
   "outputs": [],
   "source": [
    "from symbulate import *\n",
    "#'exec(%matplotlib inline)' \n",
    "import matplotlib\n",
    "\n",
    "import matplotlib.pyplot as plt"
   ]
  },
  {
   "cell_type": "markdown",
   "metadata": {},
   "source": [
    "## 2.2.1 Simulating numbers with the UNIFORM probability distribution\n",
    "\n",
    "We define a uniform random variable X and simulate 10,000 uniform random numbers with values from 0 to 40:\n",
    "\n"
   ]
  },
  {
   "cell_type": "code",
   "execution_count": 3,
   "metadata": {},
   "outputs": [
    {
     "data": {
      "image/png": "[encoded data removed]",
      "text/plain": [
       "<Figure size 432x288 with 1 Axes>"
      ]
     },
     "metadata": {
      "needs_background": "light"
     },
     "output_type": "display_data"
    }
   ],
   "source": [
    "# clear the plot space:\n",
    "plt.clf()\n",
    "# Define the probability type of function as uniform (probability space)\n",
    "P = Uniform(0,40)\n",
    "# Define X as a random variable of the type P (uniform)\n",
    "X =RV(P)\n",
    "# Simulate the values of X and save the in the x array: \n",
    "x=X.sim(10000)\n",
    "x.plot()\n",
    "plt.show()"
   ]
  },
  {
   "cell_type": "markdown",
   "metadata": {},
   "source": [
    "## 2.2.2 CHALLENGE\n",
    "\n",
    "A. CALCULATE THE MEAN AND STANDARD DEVIATION OF THIS SIMULATED UNIFORM x VARIABLE. HOW CLOSE WERE THESE MEAN AND STANDARD DEVIATION FROM THE THEORETICAL MEAN AND STANDARD DEVIATION?\n",
    "\n",
    "B. INTERPET THE ABOVE HISTOGRAM. WHAT DO YOU SEE? EXPLAIN WITH YOUR WORDS.\n",
    "\n",
    "Now generate 10,000 groups of 25 uniform random variables to end up in a matrix of 10,000 rows and 25 columns:"
   ]
  },
  {
   "cell_type": "code",
   "execution_count": 4,
   "metadata": {},
   "outputs": [
    {
     "data": {
      "text/plain": [
       "19.839309144361906"
      ]
     },
     "execution_count": 4,
     "metadata": {},
     "output_type": "execute_result"
    }
   ],
   "source": [
    "x.mean()"
   ]
  },
  {
   "cell_type": "code",
   "execution_count": 5,
   "metadata": {},
   "outputs": [
    {
     "data": {
      "text/plain": [
       "11.515838825437193"
      ]
     },
     "execution_count": 5,
     "metadata": {},
     "output_type": "execute_result"
    }
   ],
   "source": [
    "x.std()"
   ]
  },
  {
   "cell_type": "markdown",
   "metadata": {},
   "source": [
    "A. THE VALUES WERE A BIT CLOSE TO THE THEORETICAL MEAN AND STD ACCORDING TO THE READING AND THE FORMULAS.\n",
    "\n",
    "B. THE HISTOGRAM SEEMS TO HAVE A KIND OF SAME SIMILAR FREQUENCIES AMONG ALL THE DIFFERENT VALUES THAT WERE GENERATED RANDOMLY. "
   ]
  },
  {
   "cell_type": "markdown",
   "metadata": {},
   "source": [
    "Now generate 10,000 groups of 25 uniform random variables to end up in a matrix of 10,000 rows and 25 columns:"
   ]
  },
  {
   "cell_type": "code",
   "execution_count": 6,
   "metadata": {},
   "outputs": [],
   "source": [
    "# Define the probability space as a vector of 25 uniform random numbers:\n",
    "P = Uniform(0,40) ** 25\n",
    "# Define XVECTOR as a vector of random variables with 25 random values \n",
    "XVECTOR =RV(P)\n",
    "# Simulate 10,000 vectors to get a matrix  \n",
    "xmatrix=XVECTOR.sim(10000)"
   ]
  },
  {
   "cell_type": "markdown",
   "metadata": {},
   "source": [
    "Now xmatrix will have 10,000 rows and 25 columns of uniform random numbers between 0 and 40:"
   ]
  },
  {
   "cell_type": "code",
   "execution_count": 7,
   "metadata": {},
   "outputs": [
    {
     "data": {
      "text/html": [
       "\n",
       "    <table>\n",
       "      <thead>\n",
       "        <th width=\"10%\">Index</th>\n",
       "        <th width=\"90%\">Result</th>\n",
       "      </thead>\n",
       "      <tbody>\n",
       "        \n",
       "        <tr>\n",
       "          <td>0</td><td>(7.276411370246643, 39.40140608426929, 39.67387962470644, 2.499257650586544, 13.969334231389578, ......</td>\n",
       "        </tr>\n",
       "        \n",
       "        <tr>\n",
       "          <td>1</td><td>(34.681031976594035, 34.59192709511631, 6.661559086408144, 5.649065352248441, 38.49096569845809, ......</td>\n",
       "        </tr>\n",
       "        \n",
       "        <tr>\n",
       "          <td>2</td><td>(25.988062659732776, 35.61025578348495, 35.46433975900773, 27.82635659084702, 36.53152663443457, ......</td>\n",
       "        </tr>\n",
       "        \n",
       "        <tr>\n",
       "          <td>3</td><td>(16.087661354647906, 22.713487654348526, 31.423870866442556, 27.748077881150238, 5.432226413838244, ...</td>\n",
       "        </tr>\n",
       "        \n",
       "        <tr>\n",
       "          <td>4</td><td>(14.09226285398448, 34.25454338462864, 32.02642080530718, 1.1414335538426945, 8.627851851534839, ......</td>\n",
       "        </tr>\n",
       "        \n",
       "        <tr>\n",
       "          <td>5</td><td>(0.5221196689371022, 27.600183822629898, 33.79257374164203, 1.201431990011801, 27.350285451044698, ....</td>\n",
       "        </tr>\n",
       "        \n",
       "        <tr>\n",
       "          <td>6</td><td>(37.81194941393868, 38.55604354784678, 4.197821112926592, 0.5211105486207712, 1.1686814731380313, .....</td>\n",
       "        </tr>\n",
       "        \n",
       "        <tr>\n",
       "          <td>7</td><td>(15.691737680879694, 1.1316925889643903, 38.311257270222484, 32.421541929165116, 11.68866045850768, ...</td>\n",
       "        </tr>\n",
       "        \n",
       "        <tr>\n",
       "          <td>8</td><td>(19.836873869189606, 7.257880107968102, 15.054672204878742, 24.675676875908216, 18.192237789898908, ...</td>\n",
       "        </tr>\n",
       "        <tr><td>...</td><td>...</td></tr>\n",
       "        <tr>\n",
       "          <td>9999</td><td>(18.39192391188524, 6.942260528141717, 37.71546211827626, 17.032224045741444, 1.4881616787357066, .....</td>\n",
       "        </tr>\n",
       "        \n",
       "      </tbody>\n",
       "    </table>\n",
       "        "
      ],
      "text/plain": [
       "Index Result\n",
       "0     (7.276411370246643, 39.40140608426929, 39.67387962470644, 2.499257650586544, 13.969334231389578, ..., 11.402223198958277)\n",
       "1     (34.681031976594035, 34.59192709511631, 6.661559086408144, 5.649065352248441, 38.49096569845809, ..., 15.57847674904754)\n",
       "2     (25.988062659732776, 35.61025578348495, 35.46433975900773, 27.82635659084702, 36.53152663443457, ..., 13.303371004995581)\n",
       "3     (16.087661354647906, 22.713487654348526, 31.423870866442556, 27.748077881150238, 5.432226413838244, ..., 13.255642235744936)\n",
       "4     (14.09226285398448, 34.25454338462864, 32.02642080530718, 1.1414335538426945, 8.627851851534839, ..., 13.218600863935933)\n",
       "5     (0.5221196689371022, 27.600183822629898, 33.79257374164203, 1.201431990011801, 27.350285451044698, ..., 26.704939411502725)\n",
       "6     (37.81194941393868, 38.55604354784678, 4.197821112926592, 0.5211105486207712, 1.1686814731380313, ..., 8.92995519458787)\n",
       "7     (15.691737680879694, 1.1316925889643903, 38.311257270222484, 32.421541929165116, 11.68866045850768, ..., 3.0205131416952558)\n",
       "8     (19.836873869189606, 7.257880107968102, 15.054672204878742, 24.675676875908216, 18.192237789898908, ..., 15.03507412974943)\n",
       "....  ..........................................................................................................................\n",
       "9999  (18.39192391188524, 6.942260528141717, 37.71546211827626, 17.032224045741444, 1.4881616787357066, ..., 25.045126547905237)"
      ]
     },
     "execution_count": 7,
     "metadata": {},
     "output_type": "execute_result"
    }
   ],
   "source": [
    "xmatrix"
   ]
  },
  {
   "cell_type": "markdown",
   "metadata": {},
   "source": [
    "Now we get the mean of each row, so we end up with 10,000 sample means:"
   ]
  },
  {
   "cell_type": "code",
   "execution_count": 8,
   "metadata": {},
   "outputs": [
    {
     "data": {
      "text/html": [
       "\n",
       "    <table>\n",
       "      <thead>\n",
       "        <th width=\"10%\">Index</th>\n",
       "        <th width=\"90%\">Result</th>\n",
       "      </thead>\n",
       "      <tbody>\n",
       "        \n",
       "        <tr>\n",
       "          <td>0</td><td>16.149889254632832</td>\n",
       "        </tr>\n",
       "        \n",
       "        <tr>\n",
       "          <td>1</td><td>22.433212781215516</td>\n",
       "        </tr>\n",
       "        \n",
       "        <tr>\n",
       "          <td>2</td><td>16.592151935057572</td>\n",
       "        </tr>\n",
       "        \n",
       "        <tr>\n",
       "          <td>3</td><td>21.545769605613895</td>\n",
       "        </tr>\n",
       "        \n",
       "        <tr>\n",
       "          <td>4</td><td>14.991018270481934</td>\n",
       "        </tr>\n",
       "        \n",
       "        <tr>\n",
       "          <td>5</td><td>19.819522956702837</td>\n",
       "        </tr>\n",
       "        \n",
       "        <tr>\n",
       "          <td>6</td><td>21.257945665540657</td>\n",
       "        </tr>\n",
       "        \n",
       "        <tr>\n",
       "          <td>7</td><td>23.532065167190762</td>\n",
       "        </tr>\n",
       "        \n",
       "        <tr>\n",
       "          <td>8</td><td>20.014939785898637</td>\n",
       "        </tr>\n",
       "        <tr><td>...</td><td>...</td></tr>\n",
       "        <tr>\n",
       "          <td>9999</td><td>20.62939935292907</td>\n",
       "        </tr>\n",
       "        \n",
       "      </tbody>\n",
       "    </table>\n",
       "        "
      ],
      "text/plain": [
       "Index Result\n",
       "0     16.149889254632832\n",
       "1     22.433212781215516\n",
       "2     16.592151935057572\n",
       "3     21.545769605613895\n",
       "4     14.991018270481934\n",
       "5     19.819522956702837\n",
       "6     21.257945665540657\n",
       "7     23.532065167190762\n",
       "8     20.014939785898637\n",
       "....  .................\n",
       "9999  20.62939935292907"
      ]
     },
     "execution_count": 8,
     "metadata": {},
     "output_type": "execute_result"
    }
   ],
   "source": [
    "# The 2nd parameter is the mathematical operation applied to each row of the random vector\n",
    "# Simulate 10,000 means of each random vector of 25 uniform distributed numbers: \n",
    "xmean = RV(P,mean).sim(10000)\n",
    "xmean"
   ]
  },
  {
   "cell_type": "markdown",
   "metadata": {},
   "source": [
    "Now do a histogram of these sample means that come from a UNIFORM distribution."
   ]
  },
  {
   "cell_type": "code",
   "execution_count": 9,
   "metadata": {},
   "outputs": [
    {
     "data": {
      "image/png": "[encoded data removed]",
      "text/plain": [
       "<Figure size 432x288 with 1 Axes>"
      ]
     },
     "metadata": {
      "needs_background": "light"
     },
     "output_type": "display_data"
    }
   ],
   "source": [
    "plt.clf()\n",
    "xmean.plot()\n",
    "plt.show()"
   ]
  },
  {
   "cell_type": "markdown",
   "metadata": {},
   "source": [
    "## 2.2.3 CHALLENGE\n",
    "A. CALCULATE THE MEAN AND STANDARD DEVIATION OF THE xmean VARIABLE. HOW SIMILAR OR DIFFERENT ARE THESE VALUES FROM THE MEAN AND STANDARD DEVIATION OF x?\n",
    "\n",
    "B. WHAT DO YOU SEE IN THE ABOVE HISTOGRAM? DOES THE HISTOGRAM OF SAMPLE MEANS OF UNIFORM RANDOM VARIABLE LOOK LIKE A UNIFORM DISTRIBUTED VARIABLE? DO YOU SEE A LOGIC? BRIEFLY EXPLAIN WHAT YOU THINK."
   ]
  },
  {
   "cell_type": "code",
   "execution_count": 10,
   "metadata": {},
   "outputs": [
    {
     "data": {
      "text/plain": [
       "2.3082426233645115"
      ]
     },
     "execution_count": 10,
     "metadata": {},
     "output_type": "execute_result"
    }
   ],
   "source": [
    "xmean.std()"
   ]
  },
  {
   "cell_type": "markdown",
   "metadata": {},
   "source": [
    "B. I SEE THAT THE HISTOGRAM NOW TENDS TO HAVE MORE FREQUENT VALUES FROM 17.5 TO 22.5. THIS HISTOGRAM IS TOTALLY DIFFERENT AND I THINK THIS IS HAPPENING BECAUSE OF "
   ]
  },
  {
   "cell_type": "markdown",
   "metadata": {},
   "source": [
    "Now plot both variables in the same plot; the original x uniform variable and the xsample variable (the sample means of x)."
   ]
  },
  {
   "cell_type": "code",
   "execution_count": 11,
   "metadata": {},
   "outputs": [
    {
     "data": {
      "image/png": "[encoded data removed]",
      "text/plain": [
       "<Figure size 432x288 with 1 Axes>"
      ]
     },
     "metadata": {
      "needs_background": "light"
     },
     "output_type": "display_data"
    }
   ],
   "source": [
    "plt.clf()\n",
    "xmean.plot()\n",
    "x.plot()\n",
    "plt.show()"
   ]
  },
  {
   "cell_type": "markdown",
   "metadata": {},
   "source": [
    "C. WHAT DO YOU SEE? HOW THE HISTOGRAM OF X DIFFERS FROM THE HISTOGRAM OF THE SAMPLES OF X?"
   ]
  },
  {
   "cell_type": "markdown",
   "metadata": {},
   "source": [
    "## 2.2.4 Simulating numbers with the NORMAL probability distribution\n",
    "\n",
    "Let’s simulate a normal distributed variable Y with mean = 20 and standard devation = 10."
   ]
  },
  {
   "cell_type": "code",
   "execution_count": 12,
   "metadata": {},
   "outputs": [
    {
     "data": {
      "image/png": "[encoded data removed]",
      "text/plain": [
       "<Figure size 432x288 with 1 Axes>"
      ]
     },
     "metadata": {
      "needs_background": "light"
     },
     "output_type": "display_data"
    }
   ],
   "source": [
    "# clear the plot space:\n",
    "plt.clf()\n",
    "# Define the probability type of function as uniform (probability space)\n",
    "P = Normal(mean=20, sd=10)\n",
    "# Define Y as a random variable of the type P (normal)\n",
    "Y =RV(P)\n",
    "# Simulate 10,000 values of Y and save the in the x array: \n",
    "y=Y.sim(10000)\n",
    "y.plot()\n",
    "plt.show()"
   ]
  },
  {
   "cell_type": "markdown",
   "metadata": {},
   "source": [
    "## 2.2.5 CHALLENGE"
   ]
  },
  {
   "cell_type": "markdown",
   "metadata": {},
   "source": [
    "A. CALCULATE THE MEAN AND STANDARD DEVIATION OF THIS RANDOM y VARIABLE. HOW SIMILAR OR DIFFERENT ARE THESE VALUES FROM THE MEAN AND STANDARD DEVIATION OF THE THEORETICAL MEAN (20) AND THE THEORETICAL STANDARD DEVIATION (10)?"
   ]
  },
  {
   "cell_type": "markdown",
   "metadata": {},
   "source": [
    "B. WHAT DO YOU SEE? INTERPRET THE HISTOGRAM WITH YOUR WORDS."
   ]
  },
  {
   "cell_type": "markdown",
   "metadata": {},
   "source": [
    "Now generate 10,000 groups of 25 NORMAL random variables with mean=20 and SD=10. You will end up with a matrix of 10,000 rows and 25 columns:"
   ]
  },
  {
   "cell_type": "code",
   "execution_count": 13,
   "metadata": {},
   "outputs": [],
   "source": [
    "# Define the probability space P as a vector of 25 normal random numbers:\n",
    "P = Normal(mean=20, sd=10) ** 25\n",
    "# Define RANDOMVECTOR as a vector of 25 random variables in the Probability space P \n",
    "RANDOMVECTOR = RV(P)\n",
    "# Simulate 10,000 random vectors with this distribution and save the in ymatrix: \n",
    "ymatrix=RANDOMVECTOR.sim(10000)"
   ]
  },
  {
   "cell_type": "markdown",
   "metadata": {},
   "source": [
    "Now ymatrix will have 10,000 rows and 25 columns of NORMAL random numbers with mean=20 and SD=10:"
   ]
  },
  {
   "cell_type": "code",
   "execution_count": 14,
   "metadata": {},
   "outputs": [
    {
     "data": {
      "text/html": [
       "\n",
       "    <table>\n",
       "      <thead>\n",
       "        <th width=\"10%\">Index</th>\n",
       "        <th width=\"90%\">Result</th>\n",
       "      </thead>\n",
       "      <tbody>\n",
       "        \n",
       "        <tr>\n",
       "          <td>0</td><td>(22.08059382062029, 2.6827473162961297, 16.740578896987582, 31.0134942829116, 17.53377533285681, ......</td>\n",
       "        </tr>\n",
       "        \n",
       "        <tr>\n",
       "          <td>1</td><td>(30.67856436889452, 13.288439173200691, 28.16049653706806, 9.620537741792841, 38.65428419532489, ......</td>\n",
       "        </tr>\n",
       "        \n",
       "        <tr>\n",
       "          <td>2</td><td>(14.847148160550365, 17.763501819524294, 24.13117640449276, 17.962331952518216, 24.817951332183444, ...</td>\n",
       "        </tr>\n",
       "        \n",
       "        <tr>\n",
       "          <td>3</td><td>(14.882608798626471, 27.993731819212357, 20.64227800062932, 2.181100660531481, 20.391124180717743, ....</td>\n",
       "        </tr>\n",
       "        \n",
       "        <tr>\n",
       "          <td>4</td><td>(30.588746447793746, 8.452408927508689, 13.444725292014287, 21.950361280860612, 18.336918129449177, ...</td>\n",
       "        </tr>\n",
       "        \n",
       "        <tr>\n",
       "          <td>5</td><td>(14.626275336490018, 38.45661735025788, 22.093131119211982, 13.102898172468278, 49.21258700275044, ....</td>\n",
       "        </tr>\n",
       "        \n",
       "        <tr>\n",
       "          <td>6</td><td>(35.16502560908681, 30.666789085729206, 27.310849746716688, 15.986920709699891, 11.916388121460935, ...</td>\n",
       "        </tr>\n",
       "        \n",
       "        <tr>\n",
       "          <td>7</td><td>(19.236876772429053, 5.1512937476582294, 27.515694286454774, 15.521995722891257, 23.845743203158076,...</td>\n",
       "        </tr>\n",
       "        \n",
       "        <tr>\n",
       "          <td>8</td><td>(20.050925891835654, 14.085027409741913, 27.85348511776443, 21.92313674760243, 25.98914828426949, .....</td>\n",
       "        </tr>\n",
       "        <tr><td>...</td><td>...</td></tr>\n",
       "        <tr>\n",
       "          <td>9999</td><td>(17.45662082950077, 13.299415577086844, 7.321529299362513, 16.441661586111337, 34.08599555180767, .....</td>\n",
       "        </tr>\n",
       "        \n",
       "      </tbody>\n",
       "    </table>\n",
       "        "
      ],
      "text/plain": [
       "Index Result\n",
       "0     (22.08059382062029, 2.6827473162961297, 16.740578896987582, 31.0134942829116, 17.53377533285681, ..., 13.627766281532434)\n",
       "1     (30.67856436889452, 13.288439173200691, 28.16049653706806, 9.620537741792841, 38.65428419532489, ..., 18.51286092017131)\n",
       "2     (14.847148160550365, 17.763501819524294, 24.13117640449276, 17.962331952518216, 24.817951332183444, ..., 24.344273251573856)\n",
       "3     (14.882608798626471, 27.993731819212357, 20.64227800062932, 2.181100660531481, 20.391124180717743, ..., 30.661480257682634)\n",
       "4     (30.588746447793746, 8.452408927508689, 13.444725292014287, 21.950361280860612, 18.336918129449177, ..., 19.52755055398939)\n",
       "5     (14.626275336490018, 38.45661735025788, 22.093131119211982, 13.102898172468278, 49.21258700275044, ..., 22.63335446804945)\n",
       "6     (35.16502560908681, 30.666789085729206, 27.310849746716688, 15.986920709699891, 11.916388121460935, ..., 42.33213680034296)\n",
       "7     (19.236876772429053, 5.1512937476582294, 27.515694286454774, 15.521995722891257, 23.845743203158076, ..., 18.604846358598074)\n",
       "8     (20.050925891835654, 14.085027409741913, 27.85348511776443, 21.92313674760243, 25.98914828426949, ..., 15.739524500217687)\n",
       "....  ..........................................................................................................................\n",
       "9999  (17.45662082950077, 13.299415577086844, 7.321529299362513, 16.441661586111337, 34.08599555180767, ..., 15.031140687257107)"
      ]
     },
     "execution_count": 14,
     "metadata": {},
     "output_type": "execute_result"
    }
   ],
   "source": [
    "ymatrix"
   ]
  },
  {
   "cell_type": "markdown",
   "metadata": {},
   "source": [
    "Now we get the mean of each vector (row) to get 10,000 sample means:\n",
    "\n"
   ]
  },
  {
   "cell_type": "code",
   "execution_count": 15,
   "metadata": {},
   "outputs": [
    {
     "data": {
      "text/html": [
       "\n",
       "    <table>\n",
       "      <thead>\n",
       "        <th width=\"10%\">Index</th>\n",
       "        <th width=\"90%\">Result</th>\n",
       "      </thead>\n",
       "      <tbody>\n",
       "        \n",
       "        <tr>\n",
       "          <td>0</td><td>20.88742887687756</td>\n",
       "        </tr>\n",
       "        \n",
       "        <tr>\n",
       "          <td>1</td><td>21.58531982448869</td>\n",
       "        </tr>\n",
       "        \n",
       "        <tr>\n",
       "          <td>2</td><td>18.58447881104682</td>\n",
       "        </tr>\n",
       "        \n",
       "        <tr>\n",
       "          <td>3</td><td>19.26312027260675</td>\n",
       "        </tr>\n",
       "        \n",
       "        <tr>\n",
       "          <td>4</td><td>20.35151434122793</td>\n",
       "        </tr>\n",
       "        \n",
       "        <tr>\n",
       "          <td>5</td><td>18.861272371120368</td>\n",
       "        </tr>\n",
       "        \n",
       "        <tr>\n",
       "          <td>6</td><td>19.570252520832685</td>\n",
       "        </tr>\n",
       "        \n",
       "        <tr>\n",
       "          <td>7</td><td>21.506822525323194</td>\n",
       "        </tr>\n",
       "        \n",
       "        <tr>\n",
       "          <td>8</td><td>19.896446654191998</td>\n",
       "        </tr>\n",
       "        <tr><td>...</td><td>...</td></tr>\n",
       "        <tr>\n",
       "          <td>9999</td><td>23.070337653044493</td>\n",
       "        </tr>\n",
       "        \n",
       "      </tbody>\n",
       "    </table>\n",
       "        "
      ],
      "text/plain": [
       "Index Result\n",
       "0     20.88742887687756\n",
       "1     21.58531982448869\n",
       "2     18.58447881104682\n",
       "3     19.26312027260675\n",
       "4     20.35151434122793\n",
       "5     18.861272371120368\n",
       "6     19.570252520832685\n",
       "7     21.506822525323194\n",
       "8     19.896446654191998\n",
       "....  ..................\n",
       "9999  23.070337653044493"
      ]
     },
     "execution_count": 15,
     "metadata": {},
     "output_type": "execute_result"
    }
   ],
   "source": [
    "# The 2nd parameter is the mathematical operation applied to each row of the random vector\n",
    "# Simulate 10,000 means of each random vector of 25 uniform distributed numbers: \n",
    "ymean = RV(P,mean).sim(10000)\n",
    "ymean"
   ]
  },
  {
   "cell_type": "markdown",
   "metadata": {},
   "source": [
    "Now do a histogram of these sample means of Y.\n",
    "\n"
   ]
  },
  {
   "cell_type": "code",
   "execution_count": 16,
   "metadata": {},
   "outputs": [
    {
     "data": {
      "image/png": "[encoded data removed]",
      "text/plain": [
       "<Figure size 432x288 with 1 Axes>"
      ]
     },
     "metadata": {
      "needs_background": "light"
     },
     "output_type": "display_data"
    }
   ],
   "source": [
    "plt.clf()\n",
    "ymean.plot()\n",
    "plt.show()"
   ]
  },
  {
   "cell_type": "markdown",
   "metadata": {},
   "source": [
    "## 2.2.6 CHALLENGE\n",
    "A. CALCULATE THE MEAN AND STANDARD DEVIATION OF THE ymean VARIABLE. HOW SIMILAR OR DIFFERENT ARE THESE VALUES FROM THE MEAN AND STANDARD DEVIATION OF y?\n",
    "\n",
    "B. INTERPRET THE ABOVE HISTOGRAM OF THE SAMPLES OF y.\n",
    "\n"
   ]
  },
  {
   "cell_type": "markdown",
   "metadata": {},
   "source": [
    "Now plot both histograms, the histogram of y and the histogram of ymean:\n",
    "\n"
   ]
  },
  {
   "cell_type": "code",
   "execution_count": 17,
   "metadata": {},
   "outputs": [
    {
     "data": {
      "image/png": "[encoded data removed]",
      "text/plain": [
       "<Figure size 432x288 with 1 Axes>"
      ]
     },
     "metadata": {
      "needs_background": "light"
     },
     "output_type": "display_data"
    }
   ],
   "source": [
    "plt.clf()\n",
    "ymean.plot()\n",
    "y.plot()\n",
    "plt.show()"
   ]
  }
 ],
 "metadata": {
  "kernelspec": {
   "display_name": "Python 3.10.3 64-bit",
   "language": "python",
   "name": "python3"
  },
  "language_info": {
   "codemirror_mode": {
    "name": "ipython",
    "version": 3
   },
   "file_extension": ".py",
   "mimetype": "text/x-python",
   "name": "python",
   "nbconvert_exporter": "python",
   "pygments_lexer": "ipython3",
   "version": "3.10.3"
  },
  "orig_nbformat": 4,
  "vscode": {
   "interpreter": {
    "hash": "c47c896eb7d247e37b2e85063757fb1d5709b8397f6f1d76972efaa0b0675ad6"
   }
  }
 },
 "nbformat": 4,
 "nbformat_minor": 2
}
